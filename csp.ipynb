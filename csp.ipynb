{
  "nbformat": 4,
  "nbformat_minor": 0,
  "metadata": {
    "colab": {
      "name": "csp.ipynb",
      "version": "0.3.2",
      "provenance": [],
      "collapsed_sections": [],
      "include_colab_link": true
    },
    "kernelspec": {
      "name": "python3",
      "display_name": "Python 3"
    }
  },
  "cells": [
    {
      "cell_type": "markdown",
      "metadata": {
        "id": "view-in-github",
        "colab_type": "text"
      },
      "source": [
        "<a href=\"https://colab.research.google.com/github/janvisinghvi/AI-Constraint-solving-problem/blob/master/csp.ipynb\" target=\"_parent\"><img src=\"https://colab.research.google.com/assets/colab-badge.svg\" alt=\"Open In Colab\"/></a>"
      ]
    },
    {
      "cell_type": "code",
      "metadata": {
        "id": "PxlUp44p3PUU",
        "colab_type": "code",
        "colab": {
          "base_uri": "https://localhost:8080/",
          "height": 306
        },
        "outputId": "bc625296-40fb-401b-a9e2-bb1d415a4404"
      },
      "source": [
        "!pip install simpleai\n",
        "from __future__ import print_function\n",
        "from simpleai.search import (CspProblem, backtrack,\n",
        "                             min_conflicts,MOST_CONSTRAINED_VARIABLE,\n",
        "                             HIGHEST_DEGREE_VARIABLE,LEAST_CONSTRAINING_VALUE)\n",
        "variables=('WA','NT','SA','Q','NSW', 'V','T')\n",
        "domains=dict((v,['red','green','blue']) for v in variables)\n",
        "def const_different(variables,values):\n",
        "      return values[0]!=values[1] #expect the value of neighbors to be different\n",
        "constraints=[\n",
        "      (('WA','NT'),const_different),\n",
        "      (('WA','SA'),const_different),\n",
        "      (('SA','NT'),const_different),\n",
        "      (('SA','Q'),const_different),\n",
        "      (('NT','Q'),const_different),\n",
        "      (('SA','NSW'),const_different),\n",
        "      (('Q','NSW'),const_different),\n",
        "      (('SA','V'),const_different),\n",
        "      (('NSW','V'),const_different),]\n",
        "my_problem=CspProblem(variables,domains,constraints)\n",
        "print(backtrack(my_problem))\n",
        "print(backtrack(my_problem,variable_heuristic=MOST_CONSTRAINED_VARIABLE))\n",
        "print(backtrack(my_problem,variable_heuristic=HIGHEST_DEGREE_VARIABLE))\n",
        "print(backtrack(my_problem,value_heuristic=LEAST_CONSTRAINING_VALUE))\n",
        "print(backtrack(my_problem,variable_heuristic=MOST_CONSTRAINED_VARIABLE,value_heuristic=LEAST_CONSTRAINING_VALUE))\n",
        "print(backtrack(my_problem,variable_heuristic=HIGHEST_DEGREE_VARIABLE,value_heuristic=LEAST_CONSTRAINING_VALUE))\n",
        "print(min_conflicts(my_problem))\n"
      ],
      "execution_count": 3,
      "outputs": [
        {
          "output_type": "stream",
          "text": [
            "Collecting simpleai\n",
            "\u001b[?25l  Downloading https://files.pythonhosted.org/packages/7c/c3/bb7394c293d0b844598b2ad041e3507414621cb6c44b6846dda7ebfbd2eb/simpleai-0.8.2.tar.gz (94kB)\n",
            "\u001b[K     |████████████████████████████████| 102kB 3.9MB/s \n",
            "\u001b[?25hBuilding wheels for collected packages: simpleai\n",
            "  Building wheel for simpleai (setup.py) ... \u001b[?25l\u001b[?25hdone\n",
            "  Created wheel for simpleai: filename=simpleai-0.8.2-cp36-none-any.whl size=100978 sha256=1cfcc51f18dfb3f2385ec99cb6989066837cdc6e10df67e7c5caf4cb4b3adeb2\n",
            "  Stored in directory: /root/.cache/pip/wheels/eb/79/f6/e69832e2d3d025b69bc6342ef5b408c15bd81c26e949155bdc\n",
            "Successfully built simpleai\n",
            "Installing collected packages: simpleai\n",
            "Successfully installed simpleai-0.8.2\n",
            "{'WA': 'red', 'NT': 'green', 'SA': 'blue', 'Q': 'red', 'NSW': 'green', 'V': 'red', 'T': 'red'}\n",
            "{'WA': 'red', 'NT': 'green', 'SA': 'blue', 'Q': 'red', 'NSW': 'green', 'V': 'red', 'T': 'red'}\n",
            "{'SA': 'red', 'NT': 'green', 'Q': 'blue', 'NSW': 'green', 'WA': 'blue', 'V': 'blue', 'T': 'red'}\n",
            "{'WA': 'red', 'NT': 'green', 'SA': 'blue', 'Q': 'red', 'NSW': 'green', 'V': 'red', 'T': 'red'}\n",
            "{'WA': 'red', 'NT': 'green', 'SA': 'blue', 'Q': 'red', 'NSW': 'green', 'V': 'red', 'T': 'red'}\n",
            "{'SA': 'red', 'NT': 'green', 'Q': 'blue', 'NSW': 'green', 'WA': 'blue', 'V': 'blue', 'T': 'red'}\n",
            "{'WA': 'red', 'NT': 'blue', 'SA': 'green', 'Q': 'red', 'NSW': 'blue', 'V': 'red', 'T': 'green'}\n"
          ],
          "name": "stdout"
        }
      ]
    }
  ]
}